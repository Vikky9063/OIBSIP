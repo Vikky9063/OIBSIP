{
 "cells": [
  {
   "cell_type": "code",
   "execution_count": 1,
   "id": "42c43a8f",
   "metadata": {},
   "outputs": [
    {
     "name": "stdout",
     "output_type": "stream",
     "text": [
      "Password Generator\n",
      "Enter the password length: 6\n",
      "Include letters? (yes/no): yes\n",
      "Include numbers? (yes/no): yes\n",
      "Include symbols? (yes/no): yes\n",
      "Your generated password is: a&'*a\\\n"
     ]
    }
   ],
   "source": [
    "import random\n",
    "import string\n",
    "\n",
    "def generate_password(length, use_letters, use_numbers, use_symbols):\n",
    "    characters = \"\"\n",
    "    \n",
    "    if use_letters:\n",
    "        characters += string.ascii_letters\n",
    "    if use_numbers:\n",
    "        characters += string.digits\n",
    "    if use_symbols:\n",
    "        characters += string.punctuation\n",
    "\n",
    "    if not characters:\n",
    "        print(\"Please select at least one character set.\")\n",
    "        return\n",
    "\n",
    "    password = ''.join(random.choice(characters) for _ in range(length))\n",
    "    return password\n",
    "\n",
    "def main():\n",
    "    print(\"Password Generator\")\n",
    "    length = int(input(\"Enter the password length: \"))\n",
    "    use_letters = input(\"Include letters? (yes/no): \").lower() == \"yes\"\n",
    "    use_numbers = input(\"Include numbers? (yes/no): \").lower() == \"yes\"\n",
    "    use_symbols = input(\"Include symbols? (yes/no): \").lower() == \"yes\"\n",
    "\n",
    "    password = generate_password(length, use_letters, use_numbers, use_symbols)\n",
    "\n",
    "    if password:\n",
    "        print(\"Your generated password is:\", password)\n",
    "    else:\n",
    "        print(\"No password generated. Please try again.\")\n",
    "\n",
    "if __name__ == \"__main__\":\n",
    "    main()\n"
   ]
  },
  {
   "cell_type": "code",
   "execution_count": null,
   "id": "0af9b461",
   "metadata": {},
   "outputs": [],
   "source": []
  }
 ],
 "metadata": {
  "kernelspec": {
   "display_name": "Python 3 (ipykernel)",
   "language": "python",
   "name": "python3"
  },
  "language_info": {
   "codemirror_mode": {
    "name": "ipython",
    "version": 3
   },
   "file_extension": ".py",
   "mimetype": "text/x-python",
   "name": "python",
   "nbconvert_exporter": "python",
   "pygments_lexer": "ipython3",
   "version": "3.11.5"
  }
 },
 "nbformat": 4,
 "nbformat_minor": 5
}
